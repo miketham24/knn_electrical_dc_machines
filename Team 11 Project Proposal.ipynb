{
 "cells": [
  {
   "cell_type": "markdown",
   "id": "25ef541f-2c55-436f-97e2-abacd25322ec",
   "metadata": {},
   "source": [
    "# **DSCI 100 Team 11 Project Proposal: [more informative part of title]**"
   ]
  },
  {
   "cell_type": "markdown",
   "id": "0b79fc00-7e13-4f52-b007-aa68f0c21fe1",
   "metadata": {},
   "source": [
    "## Introduction"
   ]
  },
  {
   "cell_type": "markdown",
   "id": "dc1c7fc5-6f1b-4fb8-bd98-9e30a86a27a8",
   "metadata": {},
   "source": [
    "text"
   ]
  },
  {
   "cell_type": "markdown",
   "id": "2aba44a8-0e5b-4478-88b9-ed455b1a1556",
   "metadata": {},
   "source": [
    "## Preliminary exploratory data analysis"
   ]
  },
  {
   "cell_type": "code",
   "execution_count": 1,
   "id": "6dd99ab6-c0e2-43e4-a079-7f0a1564817c",
   "metadata": {},
   "outputs": [],
   "source": [
    "# cod\n",
    "# test push "
   ]
  },
  {
   "cell_type": "markdown",
   "id": "b92c994e-263f-4b3f-8d31-f164c35043cd",
   "metadata": {},
   "source": [
    "text"
   ]
  },
  {
   "cell_type": "markdown",
   "id": "2d91fc43-e965-4595-82e6-7e563fce9c13",
   "metadata": {},
   "source": [
    "## Methods"
   ]
  },
  {
   "cell_type": "markdown",
   "id": "4e60d516-9c4e-41dc-a2f3-f3be0d3712bb",
   "metadata": {},
   "source": [
    "text"
   ]
  },
  {
   "cell_type": "markdown",
   "id": "d6e676d7-c716-41bf-9221-f97241024ec6",
   "metadata": {},
   "source": [
    "## Expected outcomes and significance"
   ]
  },
  {
   "cell_type": "markdown",
   "id": "867bce91-16c1-4345-a967-75062f2a9d32",
   "metadata": {},
   "source": [
    "text"
   ]
  }
 ],
 "metadata": {
  "kernelspec": {
   "display_name": "R",
   "language": "R",
   "name": "ir"
  },
  "language_info": {
   "codemirror_mode": "r",
   "file_extension": ".r",
   "mimetype": "text/x-r-source",
   "name": "R",
   "pygments_lexer": "r",
   "version": "4.3.1"
  }
 },
 "nbformat": 4,
 "nbformat_minor": 5
}
